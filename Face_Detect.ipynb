{
 "cells": [
  {
   "cell_type": "code",
   "execution_count": 16,
   "id": "303ad4a3-c8bb-4c36-9ac4-7bca355f5cb1",
   "metadata": {},
   "outputs": [
    {
     "name": "stdout",
     "output_type": "stream",
     "text": [
      "Requirement already satisfied: facenet-pytorch in c:\\users\\venom\\anaconda3\\lib\\site-packages (2.6.0)\n",
      "Requirement already satisfied: numpy<2.0.0,>=1.24.0 in c:\\users\\venom\\anaconda3\\lib\\site-packages (from facenet-pytorch) (1.26.4)\n",
      "Requirement already satisfied: Pillow<10.3.0,>=10.2.0 in c:\\users\\venom\\anaconda3\\lib\\site-packages (from facenet-pytorch) (10.2.0)\n",
      "Requirement already satisfied: requests<3.0.0,>=2.0.0 in c:\\users\\venom\\anaconda3\\lib\\site-packages (from facenet-pytorch) (2.32.2)\n",
      "Requirement already satisfied: torch<2.3.0,>=2.2.0 in c:\\users\\venom\\anaconda3\\lib\\site-packages (from facenet-pytorch) (2.2.2)\n",
      "Requirement already satisfied: torchvision<0.18.0,>=0.17.0 in c:\\users\\venom\\anaconda3\\lib\\site-packages (from facenet-pytorch) (0.17.2)\n",
      "Requirement already satisfied: tqdm<5.0.0,>=4.0.0 in c:\\users\\venom\\anaconda3\\lib\\site-packages (from facenet-pytorch) (4.66.4)\n",
      "Requirement already satisfied: charset-normalizer<4,>=2 in c:\\users\\venom\\anaconda3\\lib\\site-packages (from requests<3.0.0,>=2.0.0->facenet-pytorch) (2.0.4)\n",
      "Requirement already satisfied: idna<4,>=2.5 in c:\\users\\venom\\anaconda3\\lib\\site-packages (from requests<3.0.0,>=2.0.0->facenet-pytorch) (3.7)\n",
      "Requirement already satisfied: urllib3<3,>=1.21.1 in c:\\users\\venom\\anaconda3\\lib\\site-packages (from requests<3.0.0,>=2.0.0->facenet-pytorch) (1.26.20)\n",
      "Requirement already satisfied: certifi>=2017.4.17 in c:\\users\\venom\\anaconda3\\lib\\site-packages (from requests<3.0.0,>=2.0.0->facenet-pytorch) (2024.6.2)\n",
      "Requirement already satisfied: filelock in c:\\users\\venom\\anaconda3\\lib\\site-packages (from torch<2.3.0,>=2.2.0->facenet-pytorch) (3.13.1)\n",
      "Requirement already satisfied: typing-extensions>=4.8.0 in c:\\users\\venom\\anaconda3\\lib\\site-packages (from torch<2.3.0,>=2.2.0->facenet-pytorch) (4.11.0)\n",
      "Requirement already satisfied: sympy in c:\\users\\venom\\anaconda3\\lib\\site-packages (from torch<2.3.0,>=2.2.0->facenet-pytorch) (1.14.0)\n",
      "Requirement already satisfied: networkx in c:\\users\\venom\\anaconda3\\lib\\site-packages (from torch<2.3.0,>=2.2.0->facenet-pytorch) (3.2.1)\n",
      "Requirement already satisfied: jinja2 in c:\\users\\venom\\anaconda3\\lib\\site-packages (from torch<2.3.0,>=2.2.0->facenet-pytorch) (3.1.4)\n",
      "Requirement already satisfied: fsspec in c:\\users\\venom\\anaconda3\\lib\\site-packages (from torch<2.3.0,>=2.2.0->facenet-pytorch) (2024.3.1)\n",
      "Requirement already satisfied: colorama in c:\\users\\venom\\anaconda3\\lib\\site-packages (from tqdm<5.0.0,>=4.0.0->facenet-pytorch) (0.4.6)\n",
      "Requirement already satisfied: MarkupSafe>=2.0 in c:\\users\\venom\\anaconda3\\lib\\site-packages (from jinja2->torch<2.3.0,>=2.2.0->facenet-pytorch) (2.1.3)\n",
      "Requirement already satisfied: mpmath<1.4,>=1.1.0 in c:\\users\\venom\\anaconda3\\lib\\site-packages (from sympy->torch<2.3.0,>=2.2.0->facenet-pytorch) (1.3.0)\n",
      "Requirement already satisfied: Pillow in c:\\users\\venom\\anaconda3\\lib\\site-packages (10.2.0)\n"
     ]
    }
   ],
   "source": [
    "!pip install facenet-pytorch\n",
    "!pip install Pillow"
   ]
  },
  {
   "cell_type": "code",
   "execution_count": 17,
   "id": "68a34357-2ccc-4851-9773-7f678dbeb6d2",
   "metadata": {},
   "outputs": [
    {
     "name": "stdout",
     "output_type": "stream",
     "text": [
      "Requirement already satisfied: opencv-python in c:\\users\\venom\\anaconda3\\lib\\site-packages (4.11.0.86)\n",
      "Requirement already satisfied: numpy>=1.21.2 in c:\\users\\venom\\anaconda3\\lib\\site-packages (from opencv-python) (1.26.4)\n"
     ]
    }
   ],
   "source": [
    "!pip install opencv-python"
   ]
  },
  {
   "cell_type": "code",
   "execution_count": 18,
   "id": "19784140-7fc5-4db8-8e2e-a3142cde750d",
   "metadata": {},
   "outputs": [
    {
     "name": "stdout",
     "output_type": "stream",
     "text": [
      "Requirement already satisfied: facenet-pytorch in c:\\users\\venom\\anaconda3\\lib\\site-packages (2.6.0)\n",
      "Requirement already satisfied: torchvision in c:\\users\\venom\\anaconda3\\lib\\site-packages (0.17.2)\n",
      "Requirement already satisfied: numpy in c:\\users\\venom\\anaconda3\\lib\\site-packages (1.26.4)\n",
      "Requirement already satisfied: matplotlib in c:\\users\\venom\\anaconda3\\lib\\site-packages (3.8.4)\n",
      "Requirement already satisfied: pillow in c:\\users\\venom\\anaconda3\\lib\\site-packages (10.2.0)\n",
      "Requirement already satisfied: requests<3.0.0,>=2.0.0 in c:\\users\\venom\\anaconda3\\lib\\site-packages (from facenet-pytorch) (2.32.2)\n",
      "Requirement already satisfied: torch<2.3.0,>=2.2.0 in c:\\users\\venom\\anaconda3\\lib\\site-packages (from facenet-pytorch) (2.2.2)\n",
      "Requirement already satisfied: tqdm<5.0.0,>=4.0.0 in c:\\users\\venom\\anaconda3\\lib\\site-packages (from facenet-pytorch) (4.66.4)\n",
      "Requirement already satisfied: filelock in c:\\users\\venom\\anaconda3\\lib\\site-packages (from torch<2.3.0,>=2.2.0->facenet-pytorch) (3.13.1)\n",
      "Requirement already satisfied: typing-extensions>=4.8.0 in c:\\users\\venom\\anaconda3\\lib\\site-packages (from torch<2.3.0,>=2.2.0->facenet-pytorch) (4.11.0)\n",
      "Requirement already satisfied: sympy in c:\\users\\venom\\anaconda3\\lib\\site-packages (from torch<2.3.0,>=2.2.0->facenet-pytorch) (1.14.0)\n",
      "Requirement already satisfied: networkx in c:\\users\\venom\\anaconda3\\lib\\site-packages (from torch<2.3.0,>=2.2.0->facenet-pytorch) (3.2.1)\n",
      "Requirement already satisfied: jinja2 in c:\\users\\venom\\anaconda3\\lib\\site-packages (from torch<2.3.0,>=2.2.0->facenet-pytorch) (3.1.4)\n",
      "Requirement already satisfied: fsspec in c:\\users\\venom\\anaconda3\\lib\\site-packages (from torch<2.3.0,>=2.2.0->facenet-pytorch) (2024.3.1)\n",
      "Requirement already satisfied: contourpy>=1.0.1 in c:\\users\\venom\\anaconda3\\lib\\site-packages (from matplotlib) (1.2.0)\n",
      "Requirement already satisfied: cycler>=0.10 in c:\\users\\venom\\anaconda3\\lib\\site-packages (from matplotlib) (0.11.0)\n",
      "Requirement already satisfied: fonttools>=4.22.0 in c:\\users\\venom\\anaconda3\\lib\\site-packages (from matplotlib) (4.51.0)\n",
      "Requirement already satisfied: kiwisolver>=1.3.1 in c:\\users\\venom\\anaconda3\\lib\\site-packages (from matplotlib) (1.4.4)\n",
      "Requirement already satisfied: packaging>=20.0 in c:\\users\\venom\\anaconda3\\lib\\site-packages (from matplotlib) (23.2)\n",
      "Requirement already satisfied: pyparsing>=2.3.1 in c:\\users\\venom\\anaconda3\\lib\\site-packages (from matplotlib) (3.0.9)\n",
      "Requirement already satisfied: python-dateutil>=2.7 in c:\\users\\venom\\anaconda3\\lib\\site-packages (from matplotlib) (2.9.0.post0)\n",
      "Requirement already satisfied: six>=1.5 in c:\\users\\venom\\anaconda3\\lib\\site-packages (from python-dateutil>=2.7->matplotlib) (1.16.0)\n",
      "Requirement already satisfied: charset-normalizer<4,>=2 in c:\\users\\venom\\anaconda3\\lib\\site-packages (from requests<3.0.0,>=2.0.0->facenet-pytorch) (2.0.4)\n",
      "Requirement already satisfied: idna<4,>=2.5 in c:\\users\\venom\\anaconda3\\lib\\site-packages (from requests<3.0.0,>=2.0.0->facenet-pytorch) (3.7)\n",
      "Requirement already satisfied: urllib3<3,>=1.21.1 in c:\\users\\venom\\anaconda3\\lib\\site-packages (from requests<3.0.0,>=2.0.0->facenet-pytorch) (1.26.20)\n",
      "Requirement already satisfied: certifi>=2017.4.17 in c:\\users\\venom\\anaconda3\\lib\\site-packages (from requests<3.0.0,>=2.0.0->facenet-pytorch) (2024.6.2)\n",
      "Requirement already satisfied: colorama in c:\\users\\venom\\anaconda3\\lib\\site-packages (from tqdm<5.0.0,>=4.0.0->facenet-pytorch) (0.4.6)\n",
      "Requirement already satisfied: MarkupSafe>=2.0 in c:\\users\\venom\\anaconda3\\lib\\site-packages (from jinja2->torch<2.3.0,>=2.2.0->facenet-pytorch) (2.1.3)\n",
      "Requirement already satisfied: mpmath<1.4,>=1.1.0 in c:\\users\\venom\\anaconda3\\lib\\site-packages (from sympy->torch<2.3.0,>=2.2.0->facenet-pytorch) (1.3.0)\n",
      "Note: you may need to restart the kernel to use updated packages.\n"
     ]
    }
   ],
   "source": [
    "pip install facenet-pytorch torchvision numpy matplotlib pillow"
   ]
  },
  {
   "cell_type": "code",
   "execution_count": 20,
   "id": "f4e4f230-688d-4e10-9005-7bd7b9f141a3",
   "metadata": {},
   "outputs": [
    {
     "name": "stdout",
     "output_type": "stream",
     "text": [
      "✅ Loaded 2 face embeddings.\n",
      "📷 Starting webcam... Press 'q' to quit\n"
     ]
    }
   ],
   "source": [
    "import os\n",
    "import torch\n",
    "import numpy as np\n",
    "import cv2\n",
    "from PIL import Image\n",
    "from torchvision import transforms\n",
    "from facenet_pytorch import InceptionResnetV1\n",
    "\n",
    "device = torch.device(\"cuda\" if torch.cuda.is_available() else \"cpu\")\n",
    "model = InceptionResnetV1(pretrained='vggface2').eval().to(device)\n",
    "\n",
    "transform = transforms.Compose([\n",
    "    transforms.Resize((160, 160)),\n",
    "    transforms.ToTensor()\n",
    "])\n",
    "\n",
    "known_embeddings = []\n",
    "known_names = []\n",
    "base_folder = \"IMAGES\"\n",
    "\n",
    "for person_name in os.listdir(base_folder):\n",
    "    person_folder = os.path.join(base_folder, person_name)\n",
    "    if not os.path.isdir(person_folder):\n",
    "        continue\n",
    "\n",
    "    for img_name in os.listdir(person_folder):\n",
    "        img_path = os.path.join(person_folder, img_name)\n",
    "\n",
    "        try:\n",
    "            image = Image.open(img_path).convert(\"RGB\")\n",
    "            img_tensor = transform(image).unsqueeze(0).to(device)\n",
    "\n",
    "            with torch.no_grad():\n",
    "                embedding = model(img_tensor).squeeze().cpu().numpy()\n",
    "\n",
    "            known_embeddings.append(embedding)\n",
    "            known_names.append(person_name)\n",
    "        except Exception as e:\n",
    "            print(f\"⚠️ Failed to load {img_path}: {e}\")\n",
    "\n",
    "print(f\"✅ Loaded {len(known_embeddings)} face embeddings.\")\n",
    "\n",
    "print(\"📷 Starting webcam... Press 'q' to quit\")\n",
    "cap = cv2.VideoCapture(0)\n",
    "\n",
    "while True:\n",
    "    ret, frame = cap.read()\n",
    "    if not ret:\n",
    "        print(\"❌ Couldn't access webcam frame.\")\n",
    "        break\n",
    "\n",
    "    image = Image.fromarray(cv2.cvtColor(frame, cv2.COLOR_BGR2RGB))\n",
    "    img_tensor = transform(image).unsqueeze(0).to(device)\n",
    "\n",
    "    with torch.no_grad():\n",
    "        test_embedding = model(img_tensor).squeeze().cpu().numpy()\n",
    "\n",
    "    similarities = [\n",
    "        np.dot(test_embedding, emb) / (np.linalg.norm(test_embedding) * np.linalg.norm(emb))\n",
    "        for emb in known_embeddings\n",
    "    ]\n",
    "\n",
    "    if similarities:\n",
    "        best_match_index = np.argmax(similarities)\n",
    "        best_score = similarities[best_match_index]\n",
    "    else:\n",
    "        best_score = 0\n",
    "\n",
    "    if best_score > 0.6:\n",
    "        name = known_names[best_match_index]\n",
    "        text = f\"✅ {name} ({best_score:.2f})\"\n",
    "        color = (0, 255, 0)\n",
    "    else:\n",
    "        text = \"❌ Unknown\"\n",
    "        color = (0, 0, 255)\n",
    "\n",
    "    cv2.putText(frame, text, (30, 40), cv2.FONT_HERSHEY_SIMPLEX, 1, color, 2)\n",
    "    cv2.imshow(\"Face Recognition\", frame)\n",
    "\n",
    "    if cv2.waitKey(1) & 0xFF == ord('q'):\n",
    "        break\n",
    "\n",
    "cap.release()\n",
    "cv2.destroyAllWindows()\n"
   ]
  },
  {
   "cell_type": "code",
   "execution_count": 6,
   "id": "22048259-2f2e-4d05-b532-07f4ac6c40c3",
   "metadata": {},
   "outputs": [],
   "source": []
  }
 ],
 "metadata": {
  "kernelspec": {
   "display_name": "Python 3 (ipykernel)",
   "language": "python",
   "name": "python3"
  },
  "language_info": {
   "codemirror_mode": {
    "name": "ipython",
    "version": 3
   },
   "file_extension": ".py",
   "mimetype": "text/x-python",
   "name": "python",
   "nbconvert_exporter": "python",
   "pygments_lexer": "ipython3",
   "version": "3.12.4"
  }
 },
 "nbformat": 4,
 "nbformat_minor": 5
}
